{
 "cells": [
  {
   "cell_type": "code",
   "execution_count": null,
   "id": "1185c0a3",
   "metadata": {},
   "outputs": [],
   "source": [
    "#\n",
    "#Modelo del lagrangiano lineal G(X)=k*phi**2\n",
    "#\n",
    "#importando las librerias\n",
    "import numpy as np\n",
    "import matplotlib.pyplot as plt\n",
    "from scipy.integrate import odeint"
   ]
  },
  {
   "cell_type": "code",
   "execution_count": null,
   "id": "927fec9a",
   "metadata": {},
   "outputs": [],
   "source": [
    "#Definiendo las constantes.\n",
    "#Constantes fisicas.  \n",
    "omega_DE=0.7\n",
    "omega_m=1-omega_DE\n",
    "h=.7\n",
    "yr=1\n",
    "Mpc=3.26e6*yr \n",
    "m=Mpc/(3.086e22)\n",
    "eV=1/(0.197e-6*m)\n",
    "M_p=2.4e27*eV\n",
    "H_0=(100/3e5)*h/Mpc\n",
    "rho_c0=3*H_0**2*M_p**2 \n",
    "G=1/(8*np.pi*M_p**2)    #M_p**2=1/(8*pi*G)\n",
    "t_uni=13.7e9*yr\n",
    "t_eq=10e11*3e8*m\n",
    "#Cosntantes para el Modelo G_3(X,phi)=mu*X**2.\n",
    "k=1e101  #cte del lagrangiano\n",
    "w=-1\n",
    "phi=.001"
   ]
  },
  {
   "cell_type": "code",
   "execution_count": null,
   "id": "91b93936",
   "metadata": {},
   "outputs": [],
   "source": [
    "#Condiciones inciales:\n",
    "a_ini=1/3e3   #a_eq materia radiacion\n",
    "y_ini=.0001\n",
    "phi_ini=.0055\n",
    "t_ini=t_eq    #tiempo de incio\n"
   ]
  },
  {
   "cell_type": "code",
   "execution_count": null,
   "id": "bb349ea1",
   "metadata": {},
   "outputs": [],
   "source": [
    "#EDO para a\n",
    "def eq_for_a(y,a,phi):\n",
    "    return np.sqrt(2*k*phi/(3*M_p**2))*y*a"
   ]
  },
  {
   "cell_type": "code",
   "execution_count": null,
   "id": "c27abcd2",
   "metadata": {},
   "outputs": [],
   "source": [
    "def eq_for_y(y,a,phi):\n",
    "    return -3*np.sqrt(2*k*phi/(3*M_p**2))*y**2 + y**2/(2*phi)"
   ]
  },
  {
   "cell_type": "code",
   "execution_count": null,
   "id": "cbf2aa03",
   "metadata": {},
   "outputs": [],
   "source": []
  },
  {
   "cell_type": "code",
   "execution_count": null,
   "id": "3065ca82",
   "metadata": {},
   "outputs": [],
   "source": [
    "#Ecuacion para la presion\n",
    "def P(rho):\n",
    "    return -w*rho"
   ]
  },
  {
   "cell_type": "code",
   "execution_count": null,
   "id": "c43df68f",
   "metadata": {},
   "outputs": [],
   "source": []
  },
  {
   "cell_type": "code",
   "execution_count": null,
   "id": "6ae49805",
   "metadata": {},
   "outputs": [],
   "source": []
  },
  {
   "cell_type": "code",
   "execution_count": null,
   "id": "dca14340",
   "metadata": {},
   "outputs": [],
   "source": []
  },
  {
   "cell_type": "code",
   "execution_count": null,
   "id": "d9c62f3a",
   "metadata": {},
   "outputs": [],
   "source": []
  },
  {
   "cell_type": "code",
   "execution_count": null,
   "id": "7f535034",
   "metadata": {},
   "outputs": [],
   "source": []
  },
  {
   "cell_type": "code",
   "execution_count": null,
   "id": "cb446505",
   "metadata": {},
   "outputs": [],
   "source": []
  },
  {
   "cell_type": "code",
   "execution_count": null,
   "id": "fcbaca0a",
   "metadata": {},
   "outputs": [],
   "source": []
  },
  {
   "cell_type": "code",
   "execution_count": null,
   "id": "0d144164",
   "metadata": {},
   "outputs": [],
   "source": []
  },
  {
   "cell_type": "code",
   "execution_count": null,
   "id": "93553d27",
   "metadata": {},
   "outputs": [],
   "source": []
  },
  {
   "cell_type": "code",
   "execution_count": null,
   "id": "3c13373e",
   "metadata": {},
   "outputs": [],
   "source": []
  },
  {
   "cell_type": "code",
   "execution_count": null,
   "id": "f9533dae",
   "metadata": {},
   "outputs": [],
   "source": []
  },
  {
   "cell_type": "code",
   "execution_count": null,
   "id": "2d499fe6",
   "metadata": {},
   "outputs": [],
   "source": []
  }
 ],
 "metadata": {
  "kernelspec": {
   "display_name": "Python 3 (ipykernel)",
   "language": "python",
   "name": "python3"
  },
  "language_info": {
   "codemirror_mode": {
    "name": "ipython",
    "version": 3
   },
   "file_extension": ".py",
   "mimetype": "text/x-python",
   "name": "python",
   "nbconvert_exporter": "python",
   "pygments_lexer": "ipython3",
   "version": "3.9.12"
  }
 },
 "nbformat": 4,
 "nbformat_minor": 5
}
