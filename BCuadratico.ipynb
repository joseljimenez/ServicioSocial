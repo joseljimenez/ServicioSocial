{
 "cells": [
  {
   "cell_type": "code",
   "execution_count": null,
   "id": "da43679e",
   "metadata": {},
   "outputs": [],
   "source": [
    "#\n",
    "#Modelo del lagrangiano lineal G(X)=k*phi**2\n",
    "#\n",
    "#importando las librerias\n",
    "import numpy as np\n",
    "import matplotlib.pyplot as plt\n",
    "from scipy.integrate import odeint"
   ]
  },
  {
   "cell_type": "code",
   "execution_count": null,
   "id": "3c738022",
   "metadata": {},
   "outputs": [],
   "source": [
    "#Definiendo las constantes.\n",
    "#Constantes fisicas.  \n",
    "omega_DE=0.7\n",
    "omega_m=1-omega_DE\n",
    "h=.7\n",
    "yr=1\n",
    "Mpc=3.26e6*yr \n",
    "m=Mpc/(3.086e22)\n",
    "eV=1/(0.197e-6*m)\n",
    "M_p=2.4e27*eV\n",
    "H_0=(100/3e5)*h/Mpc\n",
    "rho_c0=3*H_0**2*M_p**2 \n",
    "G=1/(8*np.pi*M_p**2)    #M_p**2=1/(8*pi*G)\n",
    "t_uni=13.7e9*yr\n",
    "t_eq=10e11*3e8*m\n",
    "#Cosntantes para el Modelo G_3(X,phi)=mu*X**2.\n",
    "k=1e101  #cte del lagrangiano\n",
    "w=-1\n",
    "phi=.001"
   ]
  },
  {
   "cell_type": "code",
   "execution_count": null,
   "id": "19009e1a",
   "metadata": {},
   "outputs": [],
   "source": [
    "#Condiciones inciales:\n",
    "a_ini=1/3e3   #a_eq materia radiacion\n",
    "y_ini=.0001\n",
    "phi_ini=.0055\n",
    "t_ini=t_eq    #tiempo de incio\n"
   ]
  },
  {
   "cell_type": "code",
   "execution_count": null,
   "id": "174687b1",
   "metadata": {},
   "outputs": [],
   "source": [
    "#EDO para a\n",
    "def eq_for_a(y,a,phi):\n",
    "    return np.sqrt(2*k*phi/(3*M_p**2))*y*a"
   ]
  },
  {
   "cell_type": "code",
   "execution_count": null,
   "id": "139ad4d7",
   "metadata": {},
   "outputs": [],
   "source": [
    "#Ecuacion para la presion\n",
    "def P(rho):\n",
    "    return -w*rho"
   ]
  },
  {
   "cell_type": "code",
   "execution_count": null,
   "id": "4a6a1573",
   "metadata": {},
   "outputs": [],
   "source": []
  },
  {
   "cell_type": "code",
   "execution_count": null,
   "id": "07f88f9c",
   "metadata": {},
   "outputs": [],
   "source": []
  },
  {
   "cell_type": "code",
   "execution_count": null,
   "id": "077c9b1c",
   "metadata": {},
   "outputs": [],
   "source": []
  },
  {
   "cell_type": "code",
   "execution_count": null,
   "id": "73466a50",
   "metadata": {},
   "outputs": [],
   "source": []
  },
  {
   "cell_type": "code",
   "execution_count": null,
   "id": "c9a33604",
   "metadata": {},
   "outputs": [],
   "source": []
  },
  {
   "cell_type": "code",
   "execution_count": null,
   "id": "e9a0ec46",
   "metadata": {},
   "outputs": [],
   "source": []
  },
  {
   "cell_type": "code",
   "execution_count": null,
   "id": "ccf311aa",
   "metadata": {},
   "outputs": [],
   "source": []
  },
  {
   "cell_type": "code",
   "execution_count": null,
   "id": "090ac27b",
   "metadata": {},
   "outputs": [],
   "source": []
  },
  {
   "cell_type": "code",
   "execution_count": null,
   "id": "c8a6c3c1",
   "metadata": {},
   "outputs": [],
   "source": []
  },
  {
   "cell_type": "code",
   "execution_count": null,
   "id": "ed8816cd",
   "metadata": {},
   "outputs": [],
   "source": []
  },
  {
   "cell_type": "code",
   "execution_count": null,
   "id": "055e1c6a",
   "metadata": {},
   "outputs": [],
   "source": []
  },
  {
   "cell_type": "code",
   "execution_count": null,
   "id": "96f78ab0",
   "metadata": {},
   "outputs": [],
   "source": []
  }
 ],
 "metadata": {
  "kernelspec": {
   "display_name": "Python 3 (ipykernel)",
   "language": "python",
   "name": "python3"
  },
  "language_info": {
   "codemirror_mode": {
    "name": "ipython",
    "version": 3
   },
   "file_extension": ".py",
   "mimetype": "text/x-python",
   "name": "python",
   "nbconvert_exporter": "python",
   "pygments_lexer": "ipython3",
   "version": "3.9.12"
  }
 },
 "nbformat": 4,
 "nbformat_minor": 5
}
